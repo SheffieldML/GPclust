{
 "cells": [
  {
   "cell_type": "code",
   "execution_count": 1,
   "metadata": {
    "collapsed": false
   },
   "outputs": [],
   "source": [
    "import numpy as np\n",
    "from matplotlib import pyplot as plt\n",
    "\n",
    "#configure plotting\n",
    "%matplotlib inline\n",
    "%config InlineBackend.figure_format = 'svg'\n",
    "import matplotlib\n",
    "matplotlib.rcParams['figure.figsize'] =  (8,5)\n",
    "matplotlib.rcParams['text.usetex'] = True\n",
    "matplotlib.rcParams['font.size'] = 16\n",
    "matplotlib.rcParams['font.family'] = 'serif'\n",
    "\n",
    "np.random.seed(0)\n"
   ]
  },
  {
   "cell_type": "code",
   "execution_count": 2,
   "metadata": {
    "collapsed": false
   },
   "outputs": [
    {
     "name": "stdout",
     "output_type": "stream",
     "text": [
      "(506, 2)\n"
     ]
    }
   ],
   "source": [
    "X = np.load('twoD_clustering_example.numpy')\n",
    "print X.shape"
   ]
  },
  {
   "cell_type": "markdown",
   "metadata": {},
   "source": [
    "We have a two-dimensional dataset, with 506 data.\n",
    "\n",
    "Building the model is as simple as importing the GPclust library and calling the class constructor with our data. The argument K specifies how many clusters to use."
   ]
  },
  {
   "cell_type": "code",
   "execution_count": 4,
   "metadata": {
    "collapsed": false
   },
   "outputs": [
    {
     "name": "stdout",
     "output_type": "stream",
     "text": [
      "[[ 0.1899072   0.0053279   0.03517011 ...,  0.07245283  0.01314764\n",
      "   0.40098088]\n",
      " [ 0.20134963  0.10387766  0.04287965 ...,  0.26966396  0.07398069\n",
      "   0.05923953]\n",
      " [ 0.08490301  0.15517763  0.04202434 ...,  0.06451708  0.02897642\n",
      "   0.28431159]\n",
      " ..., \n",
      " [ 0.15220887  0.17539786  0.08623784 ...,  0.15292876  0.06494828\n",
      "   0.03002559]\n",
      " [ 0.11378556  0.04689644  0.07583209 ...,  0.02729766  0.02676035\n",
      "   0.01520369]\n",
      " [ 0.03033171  0.12708498  0.00995436 ...,  0.08080533  0.37354209\n",
      "   0.11119468]]\n"
     ]
    }
   ],
   "source": [
    "import GPclust\n",
    "m = GPclust.MOG(X, num_clusters=10)\n",
    "print m.get_phi()"
   ]
  },
  {
   "cell_type": "code",
   "execution_count": 5,
   "metadata": {
    "collapsed": false
   },
   "outputs": [],
   "source": [
    "from pprint import pprint"
   ]
  },
  {
   "cell_type": "code",
   "execution_count": 6,
   "metadata": {
    "collapsed": false
   },
   "outputs": [
    {
     "name": "stdout",
     "output_type": "stream",
     "text": [
      "{'D': 2,\n",
      " 'LOGPI': 1.1447298858494002,\n",
      " 'S0': <tf.Tensor 'mul_1:0' shape=(2, 2) dtype=float64>,\n",
      " 'S0_halflogdet': <tf.Tensor 'Sum_1:0' shape=() dtype=float64>,\n",
      " 'X': <GPflow.param.DataHolder object at 0x11975d6d0>,\n",
      " 'XXT': array([[[ 0.00083681, -0.00502729],\n",
      "        [-0.00502729,  0.03020224]],\n",
      "\n",
      "       [[ 0.00077919, -0.00489457],\n",
      "        [-0.00489457,  0.03074588]],\n",
      "\n",
      "       [[ 0.00050524, -0.00383388],\n",
      "        [-0.00383388,  0.02909224]],\n",
      "\n",
      "       ..., \n",
      "       [[ 0.0125053 , -0.0086217 ],\n",
      "        [-0.0086217 ,  0.00594418]],\n",
      "\n",
      "       [[ 0.01516977, -0.00987434],\n",
      "        [-0.00987434,  0.00642743]],\n",
      "\n",
      "       [[ 0.01399544, -0.01051532],\n",
      "        [-0.01051532,  0.00790058]]]),\n",
      " '_free_vars': <tf.Tensor 'Placeholder_1:0' shape=<unknown> dtype=float64>,\n",
      " '_get_phi_AF_storage': {'free_vars': <tf.Tensor 'Placeholder_2:0' shape=(?,) dtype=float64>,\n",
      "                         'session': <tensorflow.python.client.session.Session object at 0x11975d650>,\n",
      "                         'tf_args': [],\n",
      "                         'tf_result': <tf.Tensor 'Softmax:0' shape=(?, ?) dtype=float64>},\n",
      " '_name': 'model',\n",
      " '_needs_recompile': True,\n",
      " '_parent': None,\n",
      " '_session': <tensorflow.python.client.session.Session object at 0x119765bd0>,\n",
      " '_tf_mode': False,\n",
      " 'alpha': 1.0,\n",
      " 'default_method': 'HS',\n",
      " 'hyperparam_interval': 50,\n",
      " 'hyperparam_opt_args': {'disp': True, 'maxiter': 20},\n",
      " 'k0': 1e-06,\n",
      " 'k0m0m0T': <GPflow.param.DataHolder object at 0x11975d8d0>,\n",
      " 'logphi': <GPflow.param.DataHolder object at 0x119786f50>,\n",
      " 'm0': array([-0.01996571, -0.00474904]),\n",
      " 'num_clusters': 10,\n",
      " 'num_data': 506,\n",
      " 'prior_Z': 'symmetric',\n",
      " 'scoped_keys': ['build_likelihood', 'build_prior'],\n",
      " 'v0': <tf.Tensor 'ToDouble_1:0' shape=() dtype=float64>}\n"
     ]
    }
   ],
   "source": [
    "pprint (vars(m))"
   ]
  },
  {
   "cell_type": "code",
   "execution_count": 7,
   "metadata": {
    "collapsed": true
   },
   "outputs": [],
   "source": [
    "import GPflow"
   ]
  },
  {
   "cell_type": "code",
   "execution_count": 8,
   "metadata": {
    "collapsed": true
   },
   "outputs": [],
   "source": [
    "# build a very simple data set:\n",
    "N = 12\n",
    "X = np.random.rand(N,1)\n",
    "Y = np.sin(12*X) + 0.66*np.cos(25*X) + np.random.randn(N,1)*0.1 + 3"
   ]
  },
  {
   "cell_type": "code",
   "execution_count": 9,
   "metadata": {
    "collapsed": true
   },
   "outputs": [],
   "source": [
    "#build the GPR object\n",
    "k = GPflow.kernels.Matern52(1, lengthscales=0.3)\n",
    "meanf = GPflow.mean_functions.Linear(1,0)\n",
    "m = GPflow.gpr.GPR(X, Y, k, meanf)\n",
    "m.likelihood.variance = 0.01"
   ]
  },
  {
   "cell_type": "code",
   "execution_count": 10,
   "metadata": {
    "collapsed": false
   },
   "outputs": [
    {
     "name": "stdout",
     "output_type": "stream",
     "text": [
      "{'X': <GPflow.param.DataHolder object at 0x1196f3fd0>,\n",
      " 'Y': <GPflow.param.DataHolder object at 0x1196f3f90>,\n",
      " '_free_vars': <tf.Tensor 'Placeholder_3:0' shape=<unknown> dtype=float64>,\n",
      " '_name': 'model',\n",
      " '_needs_recompile': True,\n",
      " '_parent': None,\n",
      " '_session': <tensorflow.python.client.session.Session object at 0x119704790>,\n",
      " '_tf_mode': False,\n",
      " 'kern': <GPflow.kernels.Matern52 object at 0x1196f3e10>,\n",
      " 'likelihood': <GPflow.likelihoods.Gaussian object at 0x1196f3d50>,\n",
      " 'mean_function': <GPflow.mean_functions.Linear object at 0x1196f3d90>,\n",
      " 'num_latent': 1,\n",
      " 'scoped_keys': ['build_likelihood', 'build_prior']}\n"
     ]
    }
   ],
   "source": [
    "pprint (vars(m))"
   ]
  },
  {
   "cell_type": "code",
   "execution_count": null,
   "metadata": {
    "collapsed": true
   },
   "outputs": [],
   "source": []
  }
 ],
 "metadata": {
  "kernelspec": {
   "display_name": "Python 2",
   "language": "python",
   "name": "python2"
  },
  "language_info": {
   "codemirror_mode": {
    "name": "ipython",
    "version": 2
   },
   "file_extension": ".py",
   "mimetype": "text/x-python",
   "name": "python",
   "nbconvert_exporter": "python",
   "pygments_lexer": "ipython2",
   "version": "2.7.12"
  },
  "widgets": {
   "state": {},
   "version": "1.1.2"
  }
 },
 "nbformat": 4,
 "nbformat_minor": 0
}
