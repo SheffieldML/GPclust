{
 "cells": [
  {
   "cell_type": "markdown",
   "metadata": {},
   "source": [
    "# Mixtures of Gaussian Processes with gpclust\n",
    "\n",
    "\n",
    "This notebook accompanies the paper\n",
    "\n",
    "**Nonparameteric Clustering of Structured Time Series**  \n",
    "_James Hensman, Magnus Rattray and Neil D. Lawrence_  \n",
    "IEEE TPAMI 2014\n",
    "\n",
    "The code is available at <https://github.com/mathDR/gpclust> . The gpclust module depends on [gpflow](https://github.com/GPflow).  \n",
    "\n",
    "The hierachical Gaussian process model was fleshed out in \n",
    "\n",
    "**Hierarchical Bayesian modelling of gene expression time series  \n",
    "across irregularly sampled replicates and clusters**  \n",
    "_James Hensman, Neil D. Lawrence and Magnus Rattray_\n",
    "\n",
    "http://www.biomedcentral.com/1471-2105/14/252\n",
    "\n"
   ]
  },
  {
   "cell_type": "code",
   "execution_count": 1,
   "metadata": {
    "collapsed": true
   },
   "outputs": [],
   "source": [
    "%matplotlib inline\n",
    "%config InlineBackend.figure_format = 'png'#'svg' would be better, but eats memory for these big plots.\n",
    "from matplotlib import pyplot as plt\n",
    "plt.style.use('ggplot')\n",
    "import numpy as np\n",
    "import random\n",
    "import gpclust\n",
    "import gpflow\n",
    "np.random.seed(0)"
   ]
  },
  {
   "cell_type": "markdown",
   "metadata": {},
   "source": [
    "## A simple point process dataset\n",
    "\n",
    "Here's a simulated dataset that contains the simple features that we expect to have in real data sets: . "
   ]
  },
  {
   "cell_type": "code",
   "execution_count": 2,
   "metadata": {},
   "outputs": [
    {
     "data": {
      "image/png": "[encoded data removed]",
      "text/plain": [
       "<matplotlib.figure.Figure at 0x11b92f4e0>"
      ]
     },
     "metadata": {},
     "output_type": "display_data"
    }
   ],
   "source": [
    "PLOTTING = True\n",
    "Nclust = 5\n",
    "Nobs = [np.random.randint(5,7) for i in range(Nclust)]\n",
    "N = 10\n",
    "times = np.linspace(0,10,N)\n",
    "X = []\n",
    "Y = []\n",
    "if PLOTTING:\n",
    "    f, ax = plt.subplots(Nclust, sharex=True, sharey=True)\n",
    "for i in range(Nclust):\n",
    "    # pick random parameters for this function:\n",
    "    A = 8*np.random.rand()-1\n",
    "    omega = 2*np.pi*np.random.rand()\n",
    "    phase = 2*np.pi*np.random.rand()\n",
    "    \n",
    "    for j in range(Nobs[i]):\n",
    "        a,b = np.random.randint(2,N),np.random.randint(2,N)\n",
    "        start = min(a,b)\n",
    "        end = max(a,b)\n",
    "        if end-start < 25:\n",
    "            # Need a longer sample\n",
    "            if start > (N-end):\n",
    "                end = start\n",
    "                start = 0\n",
    "            else:\n",
    "                start = end\n",
    "                end = N\n",
    "        \n",
    "        t = times[start:end]\n",
    "        try:\n",
    "            y = np.asarray(np.random.poisson(A*np.cos(omega*t+phase) + 9.0),dtype=np.double)\n",
    "        except ValueError:\n",
    "            print(A*np.cos(omega*t+phase) + 9.0)\n",
    "        X.append(t.reshape(-1,1))\n",
    "        Y.append(y.reshape(-1,1))\n",
    "        if PLOTTING:\n",
    "            ax[i].plot(t,y,'kx')\n",
    "    if PLOTTING:\n",
    "        ax[i].plot(times,A*np.cos(omega*times+phase) + 9.0,'r')\n",
    "plt.show()\n"
   ]
  },
  {
   "cell_type": "markdown",
   "metadata": {},
   "source": [
    "In the plots above, we show the underlying mean of the Poisson process for each cluster as a smooth red function, and the data associated with the cluster as black crosses. "
   ]
  },
  {
   "cell_type": "code",
   "execution_count": 3,
   "metadata": {
    "collapsed": true
   },
   "outputs": [],
   "source": [
    "Z = np.linspace(np.min(times), np.max(times),5).reshape(-1,1)"
   ]
  },
  {
   "cell_type": "code",
   "execution_count": 4,
   "metadata": {
    "collapsed": true,
    "scrolled": false
   },
   "outputs": [],
   "source": [
    "k_underlying = gpflow.kernels.RBF(1)*gpflow.kernels.Cosine(1)\n",
    "likelihood = gpflow.likelihoods.Poisson()\n",
    "\n",
    "m = gpclust.MOGP(X, Y, Z, k_underlying, likelihood, num_clusters=5, alpha=1.0, prior_Z='symmetric')\n",
    "#m.optimize()\n",
    "#m.systematic_splits(verbose=False)"
   ]
  },
  {
   "cell_type": "code",
   "execution_count": 5,
   "metadata": {},
   "outputs": [
    {
     "name": "stdout",
     "output_type": "stream",
     "text": [
      "-2455.45068469\n"
     ]
    }
   ],
   "source": [
    "print(m.log_likelihood())"
   ]
  },
  {
   "cell_type": "code",
   "execution_count": 6,
   "metadata": {
    "collapsed": true
   },
   "outputs": [],
   "source": [
    "from time import clock"
   ]
  },
  {
   "cell_type": "code",
   "execution_count": 7,
   "metadata": {},
   "outputs": [
    {
     "name": "stdout",
     "output_type": "stream",
     "text": [
      "iteration 1 bound=-1963.11028195 grad=5279.00600517, beta=0\n",
      "iteration 2 bound=-1962.82782166 grad=0.636920071276, beta=0.0\n",
      "iteration 3 bound=-1962.82643387 grad=0.00349327694409, beta=0.0595905022225\n",
      "iteration 4 bound=-1962.82589328 grad=0.000992194922546, beta=0.0\n",
      "iteration 5 bound=-1962.82589152 grad=8.27962414716e-06, beta=0.088372689992\n",
      "iteration 6 bound=-1962.82588862 grad=5.30270279218e-06, beta=0.0\n",
      "iteration 7 bound=-1962.82588859 grad=7.76480001602e-08, beta=0.10964177611\n",
      "vb converged (ftol)\n",
      "vb converged (gtol)\n",
      "iteration 8 bound=-465.617982295 grad=5.43589117042, beta=0.0\n",
      "iteration 9 bound=-463.910917314 grad=0.146337903691, beta=0.162789899113\n",
      "iteration 10 bound=-462.078704535 grad=1.91493969695, beta=0.0\n",
      "iteration 12 bound=-460.746464995 grad=0.285143928206, beta=0.946454700847\n",
      "iteration 14 bound=-460.623102594 grad=0.156669238111, beta=2.14993430498\n",
      "iteration 15 bound=-460.566747048 grad=0.0508574105489, beta=0.562568750233\n",
      "iteration 16 bound=-460.558719962 grad=0.00236118835176, beta=0.0830569765647\n",
      "iteration 18 bound=-460.002134997 grad=0.00194351025218, beta=2.74500588093\n",
      "iteration 20 bound=-459.914098871 grad=0.146733629266, beta=1725.14183697\n",
      "iteration 21 bound=-459.908779417 grad=0.00695051279414, beta=0.0619785749898\n",
      "iteration 22 bound=-459.907252063 grad=0.00185120894989, beta=0.267122762866\n",
      "iteration 23 bound=-459.907149839 grad=0.000135009160325, beta=0.173336072524\n",
      "iteration 24 bound=-459.907041544 grad=4.94045642853e-05, beta=0.0\n",
      "iteration 25 bound=-459.864602209 grad=0.000635012887258, beta=0.0\n",
      "iteration 27 bound=-459.85371273 grad=0.0161844386405, beta=235.963481419\n",
      "iteration 28 bound=-459.853606708 grad=0.000139052265618, beta=0.0131273330472\n",
      "iteration 29 bound=-459.853563887 grad=4.4089151096e-05, beta=0.42402296657\n",
      "iteration 30 bound=-459.853561462 grad=3.17378458461e-06, beta=0.17149690731\n",
      "iteration 31 bound=-459.853561056 grad=5.83526153365e-07, beta=0.0\n",
      "vb converged (ftol)\n",
      "vb converged (gtol)\n",
      "iteration 33 bound=-438.882894644 grad=33.4031479348, beta=160887.02238\n",
      "iteration 34 bound=-438.822035903 grad=0.093768720022, beta=0.00397690505887\n",
      "iteration 35 bound=-438.81712042 grad=0.0081927470353, beta=0.288871996743\n",
      "iteration 36 bound=-438.816301971 grad=0.00127206748694, beta=0.0\n",
      "iteration 37 bound=-438.81624118 grad=0.000105079196557, beta=0.28566999053\n",
      "iteration 38 bound=-438.816228874 grad=1.93056251332e-05, beta=0.0\n",
      "iteration 39 bound=-438.816228065 grad=1.50296561762e-06, beta=0.292695312078\n",
      "vb converged (ftol)\n",
      "iteration 41 bound=-433.493968661 grad=1.91100242432, beta=1426.91777287\n",
      "iteration 42 bound=-433.462535768 grad=0.0510895901356, beta=0.0786245754731\n",
      "iteration 43 bound=-433.46135298 grad=0.00232602659128, beta=0.0\n",
      "iteration 44 bound=-433.461351031 grad=3.37314775917e-06, beta=0.00729437754673\n",
      "iteration 45 bound=-433.461350918 grad=2.17179298455e-07, beta=0.139126499651\n",
      "vb converged (ftol)\n",
      "vb converged (gtol)\n",
      "iteration 47 bound=-431.91440772 grad=0.426821773, beta=3134.96980138\n",
      "iteration 48 bound=-431.907785207 grad=0.0128404912596, beta=0.137283573514\n",
      "iteration 49 bound=-431.906457291 grad=0.00236554300229, beta=0.0\n",
      "iteration 50 bound=-431.906434548 grad=5.01587522775e-05, beta=0.108287557943\n",
      "iteration 51 bound=-431.384614338 grad=0.200444069576, beta=0.0\n",
      "iteration 52 bound=-431.381686031 grad=0.0063494030316, beta=0.156115406992\n",
      "iteration 53 bound=-431.380742019 grad=0.00164331469312, beta=0.0\n",
      "iteration 54 bound=-431.380723684 grad=4.37095651752e-05, beta=0.138450238585\n",
      "iteration 55 bound=-431.380715252 grad=1.53017860393e-05, beta=0.0\n",
      "iteration 56 bound=-431.380715051 grad=3.38071313855e-07, beta=0.0966342267528\n",
      "vb converged (ftol)\n",
      "vb converged (gtol)\n",
      "iteration 58 bound=-430.979058219 grad=0.0270371785027, beta=383.25534946\n",
      "iteration 59 bound=-430.978829614 grad=0.00056639937891, beta=0.120594562835\n",
      "iteration 60 bound=-430.978717633 grad=0.000204843410256, beta=0.0\n",
      "iteration 61 bound=-430.978714691 grad=3.80554862336e-06, beta=0.0828224654244\n",
      "iteration 62 bound=-430.9786931 grad=6.83235692691e-06, beta=0.0\n",
      "iteration 63 bound=-428.236480923 grad=0.000211411656632, beta=8.52592804741\n",
      "iteration 64 bound=-428.221345988 grad=0.0257976409474, beta=0.0\n",
      "iteration 65 bound=-428.212952728 grad=0.000973968168426, beta=0.174753657777\n",
      "iteration 67 bound=-428.164310603 grad=0.0219394741902, beta=13.1936241096\n",
      "iteration 69 bound=-428.16421805 grad=0.000148778530222, beta=0.106930251706\n",
      "iteration 70 bound=-428.164074051 grad=2.85768037629e-05, beta=0.0808744610301\n",
      "iteration 72 bound=-428.163277371 grad=0.000368304965817, beta=3.42576597032\n",
      "iteration 74 bound=-428.163273391 grad=7.68390268762e-06, beta=0.712317012278\n",
      "iteration 75 bound=-428.163273387 grad=4.91157397182e-09, beta=0.00447092601384\n",
      "vb converged (ftol)\n",
      "vb converged (gtol)\n",
      "iteration 76 bound=-426.678428211 grad=0.621917899243, beta=0.0\n",
      "iteration 77 bound=-426.673963609 grad=0.00806176883935, beta=0.0644762949929\n",
      "iteration 78 bound=-426.673715221 grad=0.000466238319198, beta=0.0\n",
      "iteration 79 bound=-426.67371376 grad=3.26757993234e-06, beta=0.0493640076578\n",
      "iteration 80 bound=-426.673713327 grad=8.48181117506e-07, beta=0.0\n",
      "vb converged (ftol)\n",
      "vb converged (gtol)\n",
      "iteration 82 bound=-426.233149778 grad=0.154358378023, beta=1051.62553536\n",
      "iteration 83 bound=-426.232310574 grad=0.00187360400804, beta=0.08332164424\n",
      "iteration 84 bound=-426.23208042 grad=0.000423038278807, beta=0.0\n",
      "iteration 85 bound=-426.232079046 grad=4.07263863363e-06, beta=0.0788380333933\n",
      "iteration 86 bound=-426.232078103 grad=1.77630524243e-06, beta=0.0\n",
      "vb converged (ftol)\n",
      "iteration 87 bound=-426.080446041 grad=0.0458883998961, beta=234.399669366\n",
      "iteration 88 bound=-425.994272609 grad=0.0515077432919, beta=0.0\n",
      "iteration 90 bound=-425.654518298 grad=0.156626078859, beta=4.43936682678\n",
      "iteration 92 bound=-425.646219282 grad=0.0130186001526, beta=0.843028712626\n",
      "iteration 93 bound=-425.645875377 grad=0.000782807058578, beta=0.255175310968\n",
      "iteration 94 bound=-425.645708313 grad=0.000269282311609, beta=0.0\n",
      "iteration 95 bound=-425.645700295 grad=1.61511156305e-05, beta=0.243695526278\n",
      "iteration 96 bound=-425.645697694 grad=4.16561233462e-06, beta=0.0\n",
      "iteration 97 bound=-425.645697619 grad=2.72693180994e-07, beta=0.356251441549\n",
      "vb converged (ftol)\n",
      "vb converged (gtol)\n",
      "167.38030199999997\n"
     ]
    }
   ],
   "source": [
    "t0 = clock()\n",
    "m.optimize()\n",
    "print(clock() - t0)"
   ]
  },
  {
   "cell_type": "code",
   "execution_count": 8,
   "metadata": {},
   "outputs": [
    {
     "name": "stdout",
     "output_type": "stream",
     "text": [
      "5\n"
     ]
    }
   ],
   "source": [
    "print(m.num_clusters)"
   ]
  },
  {
   "cell_type": "code",
   "execution_count": 9,
   "metadata": {},
   "outputs": [],
   "source": [
    "#t0 = clock()\n",
    "#m.systematic_splits(verbose=True)\n",
    "#print(clock() - t0)"
   ]
  },
  {
   "cell_type": "code",
   "execution_count": 10,
   "metadata": {},
   "outputs": [
    {
     "name": "stdout",
     "output_type": "stream",
     "text": [
      "\n",
      "attempting to split cluster  0\n"
     ]
    },
    {
     "ename": "InvalidArgumentError",
     "evalue": "Incompatible shapes: [6] vs. [5]\n\t [[Node: gradients_2/model.build_likelihood_5/mul_grad/BroadcastGradientArgs = BroadcastGradientArgs[T=DT_INT32, _device=\"/job:localhost/replica:0/task:0/cpu:0\"](gradients_2/model.build_likelihood_5/mul_grad/Shape, gradients_2/model.build_likelihood_5/mul_grad/Shape_1)]]\n\nCaused by op 'gradients_2/model.build_likelihood_5/mul_grad/BroadcastGradientArgs', defined at:\n  File \"/usr/local/Cellar/python3/3.6.3/Frameworks/Python.framework/Versions/3.6/lib/python3.6/runpy.py\", line 193, in _run_module_as_main\n    \"__main__\", mod_spec)\n  File \"/usr/local/Cellar/python3/3.6.3/Frameworks/Python.framework/Versions/3.6/lib/python3.6/runpy.py\", line 85, in _run_code\n    exec(code, run_globals)\n  File \"/usr/local/lib/python3.6/site-packages/ipykernel_launcher.py\", line 16, in <module>\n    app.launch_new_instance()\n  File \"/usr/local/lib/python3.6/site-packages/traitlets/config/application.py\", line 658, in launch_instance\n    app.start()\n  File \"/usr/local/lib/python3.6/site-packages/ipykernel/kernelapp.py\", line 477, in start\n    ioloop.IOLoop.instance().start()\n  File \"/usr/local/lib/python3.6/site-packages/zmq/eventloop/ioloop.py\", line 177, in start\n    super(ZMQIOLoop, self).start()\n  File \"/usr/local/lib/python3.6/site-packages/tornado/ioloop.py\", line 888, in start\n    handler_func(fd_obj, events)\n  File \"/usr/local/lib/python3.6/site-packages/tornado/stack_context.py\", line 277, in null_wrapper\n    return fn(*args, **kwargs)\n  File \"/usr/local/lib/python3.6/site-packages/zmq/eventloop/zmqstream.py\", line 440, in _handle_events\n    self._handle_recv()\n  File \"/usr/local/lib/python3.6/site-packages/zmq/eventloop/zmqstream.py\", line 472, in _handle_recv\n    self._run_callback(callback, msg)\n  File \"/usr/local/lib/python3.6/site-packages/zmq/eventloop/zmqstream.py\", line 414, in _run_callback\n    callback(*args, **kwargs)\n  File \"/usr/local/lib/python3.6/site-packages/tornado/stack_context.py\", line 277, in null_wrapper\n    return fn(*args, **kwargs)\n  File \"/usr/local/lib/python3.6/site-packages/ipykernel/kernelbase.py\", line 283, in dispatcher\n    return self.dispatch_shell(stream, msg)\n  File \"/usr/local/lib/python3.6/site-packages/ipykernel/kernelbase.py\", line 235, in dispatch_shell\n    handler(stream, idents, msg)\n  File \"/usr/local/lib/python3.6/site-packages/ipykernel/kernelbase.py\", line 399, in execute_request\n    user_expressions, allow_stdin)\n  File \"/usr/local/lib/python3.6/site-packages/ipykernel/ipkernel.py\", line 196, in do_execute\n    res = shell.run_cell(code, store_history=store_history, silent=silent)\n  File \"/usr/local/lib/python3.6/site-packages/ipykernel/zmqshell.py\", line 533, in run_cell\n    return super(ZMQInteractiveShell, self).run_cell(*args, **kwargs)\n  File \"/usr/local/lib/python3.6/site-packages/IPython/core/interactiveshell.py\", line 2698, in run_cell\n    interactivity=interactivity, compiler=compiler, result=result)\n  File \"/usr/local/lib/python3.6/site-packages/IPython/core/interactiveshell.py\", line 2802, in run_ast_nodes\n    if self.run_code(code, result):\n  File \"/usr/local/lib/python3.6/site-packages/IPython/core/interactiveshell.py\", line 2862, in run_code\n    exec(code_obj, self.user_global_ns, self.user_ns)\n  File \"<ipython-input-7-605074f7eaed>\", line 2, in <module>\n    m.optimize()\n  File \"/Users/danmarthaler/GPclust/gpclust/collapsed_vb.py\", line 81, in optimize\n    bound, grad, natgrad = self.vb_bound_grad_natgrad()\n  File \"/usr/local/lib/python3.6/site-packages/gpflow-0.4.0-py3.6.egg/gpflow/param.py\", line 656, in runnable\n    storage['tf_result'] = tf_method(instance, *tf_args)\n  File \"/Users/danmarthaler/GPclust/gpclust/collapsed_mixture.py\", line 98, in vb_bound_grad_natgrad\n    grad, = tf.gradients(bound, self.logphi)\n  File \"/usr/local/lib/python3.6/site-packages/tensorflow/python/ops/gradients_impl.py\", line 542, in gradients\n    grad_scope, op, func_call, lambda: grad_fn(op, *out_grads))\n  File \"/usr/local/lib/python3.6/site-packages/tensorflow/python/ops/gradients_impl.py\", line 348, in _MaybeCompile\n    return grad_fn()  # Exit early\n  File \"/usr/local/lib/python3.6/site-packages/tensorflow/python/ops/gradients_impl.py\", line 542, in <lambda>\n    grad_scope, op, func_call, lambda: grad_fn(op, *out_grads))\n  File \"/usr/local/lib/python3.6/site-packages/tensorflow/python/ops/math_grad.py\", line 713, in _MulGrad\n    rx, ry = gen_array_ops._broadcast_gradient_args(sx, sy)\n  File \"/usr/local/lib/python3.6/site-packages/tensorflow/python/ops/gen_array_ops.py\", line 393, in _broadcast_gradient_args\n    name=name)\n  File \"/usr/local/lib/python3.6/site-packages/tensorflow/python/framework/op_def_library.py\", line 767, in apply_op\n    op_def=op_def)\n  File \"/usr/local/lib/python3.6/site-packages/tensorflow/python/framework/ops.py\", line 2630, in create_op\n    original_op=self._default_original_op, op_def=op_def)\n  File \"/usr/local/lib/python3.6/site-packages/tensorflow/python/framework/ops.py\", line 1204, in __init__\n    self._traceback = self._graph._extract_stack()  # pylint: disable=protected-access\n\n...which was originally created as op 'model.build_likelihood_5/mul', defined at:\n  File \"/usr/local/Cellar/python3/3.6.3/Frameworks/Python.framework/Versions/3.6/lib/python3.6/runpy.py\", line 193, in _run_module_as_main\n    \"__main__\", mod_spec)\n[elided 21 identical lines from previous traceback]\n  File \"/usr/local/lib/python3.6/site-packages/gpflow-0.4.0-py3.6.egg/gpflow/param.py\", line 656, in runnable\n    storage['tf_result'] = tf_method(instance, *tf_args)\n  File \"/Users/danmarthaler/GPclust/gpclust/collapsed_mixture.py\", line 97, in vb_bound_grad_natgrad\n    bound = self.build_likelihood()\n  File \"/usr/local/lib/python3.6/site-packages/gpflow-0.4.0-py3.6.egg/gpflow/scoping.py\", line 43, in runnable\n    return f(*args, **kwargs)\n  File \"/Users/danmarthaler/GPclust/gpclust/MOGP.py\", line 72, in build_likelihood\n    loglik += tf.reduce_sum(phi_i * tf.reduce_sum(var_exp, 0))\n  File \"/usr/local/lib/python3.6/site-packages/tensorflow/python/ops/math_ops.py\", line 865, in binary_op_wrapper\n    return func(x, y, name=name)\n  File \"/usr/local/lib/python3.6/site-packages/tensorflow/python/ops/math_ops.py\", line 1088, in _mul_dispatch\n    return gen_math_ops._mul(x, y, name=name)\n  File \"/usr/local/lib/python3.6/site-packages/tensorflow/python/ops/gen_math_ops.py\", line 1449, in _mul\n    result = _op_def_lib.apply_op(\"Mul\", x=x, y=y, name=name)\n  File \"/usr/local/lib/python3.6/site-packages/tensorflow/python/framework/op_def_library.py\", line 767, in apply_op\n    op_def=op_def)\n\nInvalidArgumentError (see above for traceback): Incompatible shapes: [6] vs. [5]\n\t [[Node: gradients_2/model.build_likelihood_5/mul_grad/BroadcastGradientArgs = BroadcastGradientArgs[T=DT_INT32, _device=\"/job:localhost/replica:0/task:0/cpu:0\"](gradients_2/model.build_likelihood_5/mul_grad/Shape, gradients_2/model.build_likelihood_5/mul_grad/Shape_1)]]\n",
     "output_type": "error",
     "traceback": [
      "\u001b[0;31m---------------------------------------------------------------------------\u001b[0m",
      "\u001b[0;31mInvalidArgumentError\u001b[0m                      Traceback (most recent call last)",
      "\u001b[0;32m/usr/local/lib/python3.6/site-packages/tensorflow/python/client/session.py\u001b[0m in \u001b[0;36m_do_call\u001b[0;34m(self, fn, *args)\u001b[0m\n\u001b[1;32m   1326\u001b[0m     \u001b[0;32mtry\u001b[0m\u001b[0;34m:\u001b[0m\u001b[0;34m\u001b[0m\u001b[0m\n\u001b[0;32m-> 1327\u001b[0;31m       \u001b[0;32mreturn\u001b[0m \u001b[0mfn\u001b[0m\u001b[0;34m(\u001b[0m\u001b[0;34m*\u001b[0m\u001b[0margs\u001b[0m\u001b[0;34m)\u001b[0m\u001b[0;34m\u001b[0m\u001b[0m\n\u001b[0m\u001b[1;32m   1328\u001b[0m     \u001b[0;32mexcept\u001b[0m \u001b[0merrors\u001b[0m\u001b[0;34m.\u001b[0m\u001b[0mOpError\u001b[0m \u001b[0;32mas\u001b[0m \u001b[0me\u001b[0m\u001b[0;34m:\u001b[0m\u001b[0;34m\u001b[0m\u001b[0m\n",
      "\u001b[0;32m/usr/local/lib/python3.6/site-packages/tensorflow/python/client/session.py\u001b[0m in \u001b[0;36m_run_fn\u001b[0;34m(session, feed_dict, fetch_list, target_list, options, run_metadata)\u001b[0m\n\u001b[1;32m   1305\u001b[0m                                    \u001b[0mfeed_dict\u001b[0m\u001b[0;34m,\u001b[0m \u001b[0mfetch_list\u001b[0m\u001b[0;34m,\u001b[0m \u001b[0mtarget_list\u001b[0m\u001b[0;34m,\u001b[0m\u001b[0;34m\u001b[0m\u001b[0m\n\u001b[0;32m-> 1306\u001b[0;31m                                    status, run_metadata)\n\u001b[0m\u001b[1;32m   1307\u001b[0m \u001b[0;34m\u001b[0m\u001b[0m\n",
      "\u001b[0;32m/usr/local/Cellar/python3/3.6.3/Frameworks/Python.framework/Versions/3.6/lib/python3.6/contextlib.py\u001b[0m in \u001b[0;36m__exit__\u001b[0;34m(self, type, value, traceback)\u001b[0m\n\u001b[1;32m     87\u001b[0m             \u001b[0;32mtry\u001b[0m\u001b[0;34m:\u001b[0m\u001b[0;34m\u001b[0m\u001b[0m\n\u001b[0;32m---> 88\u001b[0;31m                 \u001b[0mnext\u001b[0m\u001b[0;34m(\u001b[0m\u001b[0mself\u001b[0m\u001b[0;34m.\u001b[0m\u001b[0mgen\u001b[0m\u001b[0;34m)\u001b[0m\u001b[0;34m\u001b[0m\u001b[0m\n\u001b[0m\u001b[1;32m     89\u001b[0m             \u001b[0;32mexcept\u001b[0m \u001b[0mStopIteration\u001b[0m\u001b[0;34m:\u001b[0m\u001b[0;34m\u001b[0m\u001b[0m\n",
      "\u001b[0;32m/usr/local/lib/python3.6/site-packages/tensorflow/python/framework/errors_impl.py\u001b[0m in \u001b[0;36mraise_exception_on_not_ok_status\u001b[0;34m()\u001b[0m\n\u001b[1;32m    465\u001b[0m           \u001b[0mcompat\u001b[0m\u001b[0;34m.\u001b[0m\u001b[0mas_text\u001b[0m\u001b[0;34m(\u001b[0m\u001b[0mpywrap_tensorflow\u001b[0m\u001b[0;34m.\u001b[0m\u001b[0mTF_Message\u001b[0m\u001b[0;34m(\u001b[0m\u001b[0mstatus\u001b[0m\u001b[0;34m)\u001b[0m\u001b[0;34m)\u001b[0m\u001b[0;34m,\u001b[0m\u001b[0;34m\u001b[0m\u001b[0m\n\u001b[0;32m--> 466\u001b[0;31m           pywrap_tensorflow.TF_GetCode(status))\n\u001b[0m\u001b[1;32m    467\u001b[0m   \u001b[0;32mfinally\u001b[0m\u001b[0;34m:\u001b[0m\u001b[0;34m\u001b[0m\u001b[0m\n",
      "\u001b[0;31mInvalidArgumentError\u001b[0m: Incompatible shapes: [6] vs. [5]\n\t [[Node: gradients_2/model.build_likelihood_5/mul_grad/BroadcastGradientArgs = BroadcastGradientArgs[T=DT_INT32, _device=\"/job:localhost/replica:0/task:0/cpu:0\"](gradients_2/model.build_likelihood_5/mul_grad/Shape, gradients_2/model.build_likelihood_5/mul_grad/Shape_1)]]",
      "\nDuring handling of the above exception, another exception occurred:\n",
      "\u001b[0;31mInvalidArgumentError\u001b[0m                      Traceback (most recent call last)",
      "\u001b[0;32m<ipython-input-10-ca67a2e196da>\u001b[0m in \u001b[0;36m<module>\u001b[0;34m()\u001b[0m\n\u001b[1;32m      1\u001b[0m \u001b[0;32mfor\u001b[0m \u001b[0mk\u001b[0m \u001b[0;32min\u001b[0m \u001b[0mrange\u001b[0m\u001b[0;34m(\u001b[0m\u001b[0mm\u001b[0m\u001b[0;34m.\u001b[0m\u001b[0mnum_clusters\u001b[0m\u001b[0;34m)\u001b[0m\u001b[0;34m:\u001b[0m\u001b[0;34m\u001b[0m\u001b[0m\n\u001b[0;32m----> 2\u001b[0;31m     \u001b[0mm\u001b[0m\u001b[0;34m.\u001b[0m\u001b[0mtry_split\u001b[0m\u001b[0;34m(\u001b[0m\u001b[0mk\u001b[0m\u001b[0;34m)\u001b[0m\u001b[0;34m\u001b[0m\u001b[0m\n\u001b[0m",
      "\u001b[0;32m~/GPclust/gpclust/collapsed_mixture.py\u001b[0m in \u001b[0;36mtry_split\u001b[0;34m(self, indexK, threshold, verbose, maxiter, optimize_params)\u001b[0m\n\u001b[1;32m    169\u001b[0m         \u001b[0mself\u001b[0m\u001b[0;34m.\u001b[0m\u001b[0mset_vb_param\u001b[0m\u001b[0;34m(\u001b[0m\u001b[0mlogphi\u001b[0m\u001b[0;34m)\u001b[0m\u001b[0;34m\u001b[0m\u001b[0m\n\u001b[1;32m    170\u001b[0m \u001b[0;34m\u001b[0m\u001b[0m\n\u001b[0;32m--> 171\u001b[0;31m         \u001b[0mself\u001b[0m\u001b[0;34m.\u001b[0m\u001b[0moptimize\u001b[0m\u001b[0;34m(\u001b[0m\u001b[0mmaxiter\u001b[0m\u001b[0;34m=\u001b[0m\u001b[0mmaxiter\u001b[0m\u001b[0;34m,\u001b[0m \u001b[0mverbose\u001b[0m\u001b[0;34m=\u001b[0m\u001b[0mverbose\u001b[0m\u001b[0;34m)\u001b[0m\u001b[0;34m\u001b[0m\u001b[0m\n\u001b[0m\u001b[1;32m    172\u001b[0m         \u001b[0mself\u001b[0m\u001b[0;34m.\u001b[0m\u001b[0mremove_empty_clusters\u001b[0m\u001b[0;34m(\u001b[0m\u001b[0;34m)\u001b[0m\u001b[0;34m\u001b[0m\u001b[0m\n\u001b[1;32m    173\u001b[0m         \u001b[0mbound_new\u001b[0m \u001b[0;34m=\u001b[0m \u001b[0mself\u001b[0m\u001b[0;34m.\u001b[0m\u001b[0mbound\u001b[0m\u001b[0;34m(\u001b[0m\u001b[0;34m)\u001b[0m\u001b[0;34m\u001b[0m\u001b[0m\n",
      "\u001b[0;32m~/GPclust/gpclust/collapsed_vb.py\u001b[0m in \u001b[0;36moptimize\u001b[0;34m(self, method, maxiter, ftol, gtol, step_length, callback, verbose)\u001b[0m\n\u001b[1;32m     70\u001b[0m \u001b[0;34m\u001b[0m\u001b[0m\n\u001b[1;32m     71\u001b[0m         \u001b[0miteration\u001b[0m \u001b[0;34m=\u001b[0m \u001b[0;36m0\u001b[0m\u001b[0;34m\u001b[0m\u001b[0m\n\u001b[0;32m---> 72\u001b[0;31m         \u001b[0mbound_old\u001b[0m\u001b[0;34m,\u001b[0m \u001b[0mgrad_old\u001b[0m\u001b[0;34m,\u001b[0m \u001b[0mnatgrad_old\u001b[0m \u001b[0;34m=\u001b[0m \u001b[0mself\u001b[0m\u001b[0;34m.\u001b[0m\u001b[0mvb_bound_grad_natgrad\u001b[0m\u001b[0;34m(\u001b[0m\u001b[0;34m)\u001b[0m\u001b[0;34m\u001b[0m\u001b[0m\n\u001b[0m\u001b[1;32m     73\u001b[0m         \u001b[0msquareNorm_old\u001b[0m \u001b[0;34m=\u001b[0m \u001b[0mnp\u001b[0m\u001b[0;34m.\u001b[0m\u001b[0mdot\u001b[0m\u001b[0;34m(\u001b[0m\u001b[0mnatgrad_old\u001b[0m\u001b[0;34m,\u001b[0m \u001b[0mgrad_old\u001b[0m\u001b[0;34m)\u001b[0m  \u001b[0;31m# used to monitor convergence\u001b[0m\u001b[0;34m\u001b[0m\u001b[0m\n\u001b[1;32m     74\u001b[0m         \u001b[0msearchDir_old\u001b[0m \u001b[0;34m=\u001b[0m \u001b[0;36m0.\u001b[0m\u001b[0;34m\u001b[0m\u001b[0m\n",
      "\u001b[0;32m/usr/local/lib/python3.6/site-packages/gpflow-0.4.0-py3.6.egg/gpflow/param.py\u001b[0m in \u001b[0;36mrunnable\u001b[0;34m(instance, *np_args, **kwargs)\u001b[0m\n\u001b[1;32m    662\u001b[0m             \u001b[0mfeed_dict\u001b[0m\u001b[0;34m[\u001b[0m\u001b[0mstorage\u001b[0m\u001b[0;34m[\u001b[0m\u001b[0;34m'free_vars'\u001b[0m\u001b[0;34m]\u001b[0m\u001b[0;34m]\u001b[0m \u001b[0;34m=\u001b[0m \u001b[0minstance\u001b[0m\u001b[0;34m.\u001b[0m\u001b[0mget_free_state\u001b[0m\u001b[0;34m(\u001b[0m\u001b[0;34m)\u001b[0m\u001b[0;34m\u001b[0m\u001b[0m\n\u001b[1;32m    663\u001b[0m             \u001b[0minstance\u001b[0m\u001b[0;34m.\u001b[0m\u001b[0mupdate_feed_dict\u001b[0m\u001b[0;34m(\u001b[0m\u001b[0mstorage\u001b[0m\u001b[0;34m[\u001b[0m\u001b[0;34m'feed_dict_keys'\u001b[0m\u001b[0;34m]\u001b[0m\u001b[0;34m,\u001b[0m \u001b[0mfeed_dict\u001b[0m\u001b[0;34m)\u001b[0m\u001b[0;34m\u001b[0m\u001b[0m\n\u001b[0;32m--> 664\u001b[0;31m             \u001b[0;32mreturn\u001b[0m \u001b[0msession\u001b[0m\u001b[0;34m.\u001b[0m\u001b[0mrun\u001b[0m\u001b[0;34m(\u001b[0m\u001b[0mstorage\u001b[0m\u001b[0;34m[\u001b[0m\u001b[0;34m'tf_result'\u001b[0m\u001b[0;34m]\u001b[0m\u001b[0;34m,\u001b[0m \u001b[0mfeed_dict\u001b[0m\u001b[0;34m=\u001b[0m\u001b[0mfeed_dict\u001b[0m\u001b[0;34m)\u001b[0m\u001b[0;34m\u001b[0m\u001b[0m\n\u001b[0m\u001b[1;32m    665\u001b[0m \u001b[0;34m\u001b[0m\u001b[0m\n\u001b[1;32m    666\u001b[0m         \u001b[0;32mreturn\u001b[0m \u001b[0mrunnable\u001b[0m\u001b[0;34m\u001b[0m\u001b[0m\n",
      "\u001b[0;32m/usr/local/lib/python3.6/site-packages/tensorflow/python/client/session.py\u001b[0m in \u001b[0;36mrun\u001b[0;34m(self, fetches, feed_dict, options, run_metadata)\u001b[0m\n\u001b[1;32m    893\u001b[0m     \u001b[0;32mtry\u001b[0m\u001b[0;34m:\u001b[0m\u001b[0;34m\u001b[0m\u001b[0m\n\u001b[1;32m    894\u001b[0m       result = self._run(None, fetches, feed_dict, options_ptr,\n\u001b[0;32m--> 895\u001b[0;31m                          run_metadata_ptr)\n\u001b[0m\u001b[1;32m    896\u001b[0m       \u001b[0;32mif\u001b[0m \u001b[0mrun_metadata\u001b[0m\u001b[0;34m:\u001b[0m\u001b[0;34m\u001b[0m\u001b[0m\n\u001b[1;32m    897\u001b[0m         \u001b[0mproto_data\u001b[0m \u001b[0;34m=\u001b[0m \u001b[0mtf_session\u001b[0m\u001b[0;34m.\u001b[0m\u001b[0mTF_GetBuffer\u001b[0m\u001b[0;34m(\u001b[0m\u001b[0mrun_metadata_ptr\u001b[0m\u001b[0;34m)\u001b[0m\u001b[0;34m\u001b[0m\u001b[0m\n",
      "\u001b[0;32m/usr/local/lib/python3.6/site-packages/tensorflow/python/client/session.py\u001b[0m in \u001b[0;36m_run\u001b[0;34m(self, handle, fetches, feed_dict, options, run_metadata)\u001b[0m\n\u001b[1;32m   1122\u001b[0m     \u001b[0;32mif\u001b[0m \u001b[0mfinal_fetches\u001b[0m \u001b[0;32mor\u001b[0m \u001b[0mfinal_targets\u001b[0m \u001b[0;32mor\u001b[0m \u001b[0;34m(\u001b[0m\u001b[0mhandle\u001b[0m \u001b[0;32mand\u001b[0m \u001b[0mfeed_dict_tensor\u001b[0m\u001b[0;34m)\u001b[0m\u001b[0;34m:\u001b[0m\u001b[0;34m\u001b[0m\u001b[0m\n\u001b[1;32m   1123\u001b[0m       results = self._do_run(handle, final_targets, final_fetches,\n\u001b[0;32m-> 1124\u001b[0;31m                              feed_dict_tensor, options, run_metadata)\n\u001b[0m\u001b[1;32m   1125\u001b[0m     \u001b[0;32melse\u001b[0m\u001b[0;34m:\u001b[0m\u001b[0;34m\u001b[0m\u001b[0m\n\u001b[1;32m   1126\u001b[0m       \u001b[0mresults\u001b[0m \u001b[0;34m=\u001b[0m \u001b[0;34m[\u001b[0m\u001b[0;34m]\u001b[0m\u001b[0;34m\u001b[0m\u001b[0m\n",
      "\u001b[0;32m/usr/local/lib/python3.6/site-packages/tensorflow/python/client/session.py\u001b[0m in \u001b[0;36m_do_run\u001b[0;34m(self, handle, target_list, fetch_list, feed_dict, options, run_metadata)\u001b[0m\n\u001b[1;32m   1319\u001b[0m     \u001b[0;32mif\u001b[0m \u001b[0mhandle\u001b[0m \u001b[0;32mis\u001b[0m \u001b[0;32mNone\u001b[0m\u001b[0;34m:\u001b[0m\u001b[0;34m\u001b[0m\u001b[0m\n\u001b[1;32m   1320\u001b[0m       return self._do_call(_run_fn, self._session, feeds, fetches, targets,\n\u001b[0;32m-> 1321\u001b[0;31m                            options, run_metadata)\n\u001b[0m\u001b[1;32m   1322\u001b[0m     \u001b[0;32melse\u001b[0m\u001b[0;34m:\u001b[0m\u001b[0;34m\u001b[0m\u001b[0m\n\u001b[1;32m   1323\u001b[0m       \u001b[0;32mreturn\u001b[0m \u001b[0mself\u001b[0m\u001b[0;34m.\u001b[0m\u001b[0m_do_call\u001b[0m\u001b[0;34m(\u001b[0m\u001b[0m_prun_fn\u001b[0m\u001b[0;34m,\u001b[0m \u001b[0mself\u001b[0m\u001b[0;34m.\u001b[0m\u001b[0m_session\u001b[0m\u001b[0;34m,\u001b[0m \u001b[0mhandle\u001b[0m\u001b[0;34m,\u001b[0m \u001b[0mfeeds\u001b[0m\u001b[0;34m,\u001b[0m \u001b[0mfetches\u001b[0m\u001b[0;34m)\u001b[0m\u001b[0;34m\u001b[0m\u001b[0m\n",
      "\u001b[0;32m/usr/local/lib/python3.6/site-packages/tensorflow/python/client/session.py\u001b[0m in \u001b[0;36m_do_call\u001b[0;34m(self, fn, *args)\u001b[0m\n\u001b[1;32m   1338\u001b[0m         \u001b[0;32mexcept\u001b[0m \u001b[0mKeyError\u001b[0m\u001b[0;34m:\u001b[0m\u001b[0;34m\u001b[0m\u001b[0m\n\u001b[1;32m   1339\u001b[0m           \u001b[0;32mpass\u001b[0m\u001b[0;34m\u001b[0m\u001b[0m\n\u001b[0;32m-> 1340\u001b[0;31m       \u001b[0;32mraise\u001b[0m \u001b[0mtype\u001b[0m\u001b[0;34m(\u001b[0m\u001b[0me\u001b[0m\u001b[0;34m)\u001b[0m\u001b[0;34m(\u001b[0m\u001b[0mnode_def\u001b[0m\u001b[0;34m,\u001b[0m \u001b[0mop\u001b[0m\u001b[0;34m,\u001b[0m \u001b[0mmessage\u001b[0m\u001b[0;34m)\u001b[0m\u001b[0;34m\u001b[0m\u001b[0m\n\u001b[0m\u001b[1;32m   1341\u001b[0m \u001b[0;34m\u001b[0m\u001b[0m\n\u001b[1;32m   1342\u001b[0m   \u001b[0;32mdef\u001b[0m \u001b[0m_extend_graph\u001b[0m\u001b[0;34m(\u001b[0m\u001b[0mself\u001b[0m\u001b[0;34m)\u001b[0m\u001b[0;34m:\u001b[0m\u001b[0;34m\u001b[0m\u001b[0m\n",
      "\u001b[0;31mInvalidArgumentError\u001b[0m: Incompatible shapes: [6] vs. [5]\n\t [[Node: gradients_2/model.build_likelihood_5/mul_grad/BroadcastGradientArgs = BroadcastGradientArgs[T=DT_INT32, _device=\"/job:localhost/replica:0/task:0/cpu:0\"](gradients_2/model.build_likelihood_5/mul_grad/Shape, gradients_2/model.build_likelihood_5/mul_grad/Shape_1)]]\n\nCaused by op 'gradients_2/model.build_likelihood_5/mul_grad/BroadcastGradientArgs', defined at:\n  File \"/usr/local/Cellar/python3/3.6.3/Frameworks/Python.framework/Versions/3.6/lib/python3.6/runpy.py\", line 193, in _run_module_as_main\n    \"__main__\", mod_spec)\n  File \"/usr/local/Cellar/python3/3.6.3/Frameworks/Python.framework/Versions/3.6/lib/python3.6/runpy.py\", line 85, in _run_code\n    exec(code, run_globals)\n  File \"/usr/local/lib/python3.6/site-packages/ipykernel_launcher.py\", line 16, in <module>\n    app.launch_new_instance()\n  File \"/usr/local/lib/python3.6/site-packages/traitlets/config/application.py\", line 658, in launch_instance\n    app.start()\n  File \"/usr/local/lib/python3.6/site-packages/ipykernel/kernelapp.py\", line 477, in start\n    ioloop.IOLoop.instance().start()\n  File \"/usr/local/lib/python3.6/site-packages/zmq/eventloop/ioloop.py\", line 177, in start\n    super(ZMQIOLoop, self).start()\n  File \"/usr/local/lib/python3.6/site-packages/tornado/ioloop.py\", line 888, in start\n    handler_func(fd_obj, events)\n  File \"/usr/local/lib/python3.6/site-packages/tornado/stack_context.py\", line 277, in null_wrapper\n    return fn(*args, **kwargs)\n  File \"/usr/local/lib/python3.6/site-packages/zmq/eventloop/zmqstream.py\", line 440, in _handle_events\n    self._handle_recv()\n  File \"/usr/local/lib/python3.6/site-packages/zmq/eventloop/zmqstream.py\", line 472, in _handle_recv\n    self._run_callback(callback, msg)\n  File \"/usr/local/lib/python3.6/site-packages/zmq/eventloop/zmqstream.py\", line 414, in _run_callback\n    callback(*args, **kwargs)\n  File \"/usr/local/lib/python3.6/site-packages/tornado/stack_context.py\", line 277, in null_wrapper\n    return fn(*args, **kwargs)\n  File \"/usr/local/lib/python3.6/site-packages/ipykernel/kernelbase.py\", line 283, in dispatcher\n    return self.dispatch_shell(stream, msg)\n  File \"/usr/local/lib/python3.6/site-packages/ipykernel/kernelbase.py\", line 235, in dispatch_shell\n    handler(stream, idents, msg)\n  File \"/usr/local/lib/python3.6/site-packages/ipykernel/kernelbase.py\", line 399, in execute_request\n    user_expressions, allow_stdin)\n  File \"/usr/local/lib/python3.6/site-packages/ipykernel/ipkernel.py\", line 196, in do_execute\n    res = shell.run_cell(code, store_history=store_history, silent=silent)\n  File \"/usr/local/lib/python3.6/site-packages/ipykernel/zmqshell.py\", line 533, in run_cell\n    return super(ZMQInteractiveShell, self).run_cell(*args, **kwargs)\n  File \"/usr/local/lib/python3.6/site-packages/IPython/core/interactiveshell.py\", line 2698, in run_cell\n    interactivity=interactivity, compiler=compiler, result=result)\n  File \"/usr/local/lib/python3.6/site-packages/IPython/core/interactiveshell.py\", line 2802, in run_ast_nodes\n    if self.run_code(code, result):\n  File \"/usr/local/lib/python3.6/site-packages/IPython/core/interactiveshell.py\", line 2862, in run_code\n    exec(code_obj, self.user_global_ns, self.user_ns)\n  File \"<ipython-input-7-605074f7eaed>\", line 2, in <module>\n    m.optimize()\n  File \"/Users/danmarthaler/GPclust/gpclust/collapsed_vb.py\", line 81, in optimize\n    bound, grad, natgrad = self.vb_bound_grad_natgrad()\n  File \"/usr/local/lib/python3.6/site-packages/gpflow-0.4.0-py3.6.egg/gpflow/param.py\", line 656, in runnable\n    storage['tf_result'] = tf_method(instance, *tf_args)\n  File \"/Users/danmarthaler/GPclust/gpclust/collapsed_mixture.py\", line 98, in vb_bound_grad_natgrad\n    grad, = tf.gradients(bound, self.logphi)\n  File \"/usr/local/lib/python3.6/site-packages/tensorflow/python/ops/gradients_impl.py\", line 542, in gradients\n    grad_scope, op, func_call, lambda: grad_fn(op, *out_grads))\n  File \"/usr/local/lib/python3.6/site-packages/tensorflow/python/ops/gradients_impl.py\", line 348, in _MaybeCompile\n    return grad_fn()  # Exit early\n  File \"/usr/local/lib/python3.6/site-packages/tensorflow/python/ops/gradients_impl.py\", line 542, in <lambda>\n    grad_scope, op, func_call, lambda: grad_fn(op, *out_grads))\n  File \"/usr/local/lib/python3.6/site-packages/tensorflow/python/ops/math_grad.py\", line 713, in _MulGrad\n    rx, ry = gen_array_ops._broadcast_gradient_args(sx, sy)\n  File \"/usr/local/lib/python3.6/site-packages/tensorflow/python/ops/gen_array_ops.py\", line 393, in _broadcast_gradient_args\n    name=name)\n  File \"/usr/local/lib/python3.6/site-packages/tensorflow/python/framework/op_def_library.py\", line 767, in apply_op\n    op_def=op_def)\n  File \"/usr/local/lib/python3.6/site-packages/tensorflow/python/framework/ops.py\", line 2630, in create_op\n    original_op=self._default_original_op, op_def=op_def)\n  File \"/usr/local/lib/python3.6/site-packages/tensorflow/python/framework/ops.py\", line 1204, in __init__\n    self._traceback = self._graph._extract_stack()  # pylint: disable=protected-access\n\n...which was originally created as op 'model.build_likelihood_5/mul', defined at:\n  File \"/usr/local/Cellar/python3/3.6.3/Frameworks/Python.framework/Versions/3.6/lib/python3.6/runpy.py\", line 193, in _run_module_as_main\n    \"__main__\", mod_spec)\n[elided 21 identical lines from previous traceback]\n  File \"/usr/local/lib/python3.6/site-packages/gpflow-0.4.0-py3.6.egg/gpflow/param.py\", line 656, in runnable\n    storage['tf_result'] = tf_method(instance, *tf_args)\n  File \"/Users/danmarthaler/GPclust/gpclust/collapsed_mixture.py\", line 97, in vb_bound_grad_natgrad\n    bound = self.build_likelihood()\n  File \"/usr/local/lib/python3.6/site-packages/gpflow-0.4.0-py3.6.egg/gpflow/scoping.py\", line 43, in runnable\n    return f(*args, **kwargs)\n  File \"/Users/danmarthaler/GPclust/gpclust/MOGP.py\", line 72, in build_likelihood\n    loglik += tf.reduce_sum(phi_i * tf.reduce_sum(var_exp, 0))\n  File \"/usr/local/lib/python3.6/site-packages/tensorflow/python/ops/math_ops.py\", line 865, in binary_op_wrapper\n    return func(x, y, name=name)\n  File \"/usr/local/lib/python3.6/site-packages/tensorflow/python/ops/math_ops.py\", line 1088, in _mul_dispatch\n    return gen_math_ops._mul(x, y, name=name)\n  File \"/usr/local/lib/python3.6/site-packages/tensorflow/python/ops/gen_math_ops.py\", line 1449, in _mul\n    result = _op_def_lib.apply_op(\"Mul\", x=x, y=y, name=name)\n  File \"/usr/local/lib/python3.6/site-packages/tensorflow/python/framework/op_def_library.py\", line 767, in apply_op\n    op_def=op_def)\n\nInvalidArgumentError (see above for traceback): Incompatible shapes: [6] vs. [5]\n\t [[Node: gradients_2/model.build_likelihood_5/mul_grad/BroadcastGradientArgs = BroadcastGradientArgs[T=DT_INT32, _device=\"/job:localhost/replica:0/task:0/cpu:0\"](gradients_2/model.build_likelihood_5/mul_grad/Shape, gradients_2/model.build_likelihood_5/mul_grad/Shape_1)]]\n"
     ]
    }
   ],
   "source": [
    "for k in range(m.num_clusters):\n",
    "    m.try_split(k)"
   ]
  },
  {
   "cell_type": "code",
   "execution_count": null,
   "metadata": {
    "collapsed": true
   },
   "outputs": [],
   "source": []
  }
 ],
 "metadata": {
  "kernelspec": {
   "display_name": "Python 3",
   "language": "python",
   "name": "python3"
  },
  "language_info": {
   "codemirror_mode": {
    "name": "ipython",
    "version": 3
   },
   "file_extension": ".py",
   "mimetype": "text/x-python",
   "name": "python",
   "nbconvert_exporter": "python",
   "pygments_lexer": "ipython3",
   "version": "3.6.3"
  }
 },
 "nbformat": 4,
 "nbformat_minor": 1
}
